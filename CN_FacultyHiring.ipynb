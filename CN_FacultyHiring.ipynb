{
 "cells": [
  {
   "cell_type": "code",
   "execution_count": 1,
   "id": "fbbf770a",
   "metadata": {},
   "outputs": [],
   "source": [
    "import networkx as nx\n",
    "import matplotlib.pyplot as plt\n",
    "import matplotlib as mpl\n",
    "\n",
    "import numpy as np\n",
    "import scipy as scy\n",
    "import time\n",
    "\n",
    "import pandas as pd\n",
    "import zipfile"
   ]
  },
  {
   "cell_type": "code",
   "execution_count": 2,
   "id": "0c6d354b",
   "metadata": {},
   "outputs": [],
   "source": [
    "labFS = 16\n",
    "legFS = 12"
   ]
  },
  {
   "cell_type": "code",
   "execution_count": 3,
   "id": "6b145da5",
   "metadata": {},
   "outputs": [],
   "source": [
    "def ReadNetwork (path_to_zipped_file):\n",
    "    '''\n",
    "    INPUT\n",
    "    - path_to_zipped_file: string. Self-explanatory name.\n",
    "    \n",
    "    OUTPUT\n",
    "    - G : nx.Graph(). Graph that has been readed from a zipped file from Netzschleuder.\n",
    "    '''\n",
    "\n",
    "# open zip with network files\n",
    "    with zipfile.ZipFile(path_to_zipped_file) as z:\n",
    "    # open file for the edges \n",
    "        with z.open('edges.csv') as f:\n",
    "            df = pd.read_csv(f)\n",
    "            df = df.rename(columns={\"# source\": \" source\"})\n",
    "            for col in df.columns:\n",
    "                df = df.rename(columns={col: col[1:]})\n",
    "        # create network from edge list (call the proper network constructor, e.g., DiGrpah if directed)\n",
    "            if 'weight' in df.columns:\n",
    "                # Create graph including edge weights\n",
    "                G = nx.from_pandas_edgelist(df, edge_attr='weight')\n",
    "                \n",
    "            else:\n",
    "                # Create graph without edge weights\n",
    "                G = nx.from_pandas_edgelist(df)\n",
    "        \n",
    "        '''\n",
    "    # open file for the graph properties (this one was a little tricky...)\n",
    "        parsed_data = []\n",
    "        with z.open('gprops.csv') as f:\n",
    "            for line in f:\n",
    "                decoded_line = line.decode('utf-8')\n",
    "            # Skip empty lines or lines starting with '#'\n",
    "                if not decoded_line.strip() or decoded_line.startswith('#'):\n",
    "                    continue\n",
    "        \n",
    "            # Split the line by the first comma only, since only 2 fields are expected\n",
    "                split_line = decoded_line.split(',', 1)\n",
    "        \n",
    "            # Check if the line is split into exactly 2 parts\n",
    "                if len(split_line) == 2:\n",
    "                # Trim and strip quotes from the second part if necessary\n",
    "                    key, value = split_line\n",
    "                    value = value.strip().strip('\"')\n",
    "                    parsed_data.append([key.strip(), value])\n",
    "                    \n",
    "        for prop,value in parsed_data:\n",
    "            G.graph[prop] = value\n",
    "        '''\n",
    "        \n",
    "    # open file for node properties and add them to the graph\n",
    "        with z.open('nodes.csv') as f:\n",
    "            df = pd.read_csv(f)\n",
    "            df = df.rename(columns={\"# index\": \" id\"})\n",
    "            for col in df.columns:\n",
    "                df = df.rename(columns={col: col[1:]})\n",
    "            for att in list(df.columns[1:]):\n",
    "                att_dict = pd.Series(df[att].values,index=df.id).to_dict()\n",
    "                nx.set_node_attributes(G,att_dict,att)\n",
    "            \n",
    "    return G"
   ]
  },
  {
   "cell_type": "markdown",
   "id": "cb3d674a",
   "metadata": {},
   "source": [
    "# __Dedicated to change the 'edges.csv' file to prepare it for the community detection__"
   ]
  },
  {
   "cell_type": "code",
   "execution_count": 85,
   "id": "439561e0",
   "metadata": {},
   "outputs": [],
   "source": [
    "df = pd.read_csv(r'network_10\\edges.csv')\n",
    "columns = list(df.columns)\n",
    "sources = df[columns[0]].tolist()\n",
    "targets = df[columns[1]].tolist()\n",
    "tuples = [(sources[i], targets[i]) for i in range(len(sources))]\n",
    "\n",
    "set_tuples = sorted(list(set(tuples)))\n",
    "weight = np.zeros(len(set_tuples))\n",
    "for i in range(len(set_tuples)):\n",
    "    if set_tuples[i][0]==set_tuples[i][1]:\n",
    "        weight[i] = tuples.count(set_tuples[i])\n",
    "    else:\n",
    "        weight[i] = tuples.count(set_tuples[i]) + tuples.count((set_tuples[i][1], set_tuples[i][0]))\n",
    "        \n",
    "source = [pair[0] for pair in set_tuples]\n",
    "target = [pair[1] for pair in set_tuples]\n",
    "\n",
    "data = {\n",
    "    columns[0]: source,\n",
    "    columns[1]: target,\n",
    "    ' weight' : weight\n",
    "}\n",
    "\n",
    "df2 = pd.DataFrame(data)\n",
    "df2.to_csv('edges.csv', index = False)"
   ]
  },
  {
   "cell_type": "markdown",
   "id": "783abfd2",
   "metadata": {},
   "source": [
    "# __Reading the network__"
   ]
  },
  {
   "cell_type": "markdown",
   "id": "15d02fec",
   "metadata": {},
   "source": [
    "Network of faculty hiring in Computer Science Departments. Each node is a PhD-granting institution in the respective field, and a directed edge (i,j) indicates that a person received their PhD from node i and was tenure-track faculty at node j during time of collection (2011-2013). All data collected from faculty public rosters at the sampled institutions."
   ]
  },
  {
   "cell_type": "code",
   "execution_count": 4,
   "id": "78f9ae84",
   "metadata": {},
   "outputs": [],
   "source": [
    "G = ReadNetwork(r'network_10_edges_changed.zip')\n",
    "# You don't need to do this, since when reading the graph as a nx.Graph() and not as a nx.DiGraph() the work avoiding the\n",
    "# (j,i) edge when (i,j) was already taken into account is already done.\n",
    "# G = G.to_undirected()"
   ]
  },
  {
   "cell_type": "code",
   "execution_count": 5,
   "id": "09ee83ed",
   "metadata": {},
   "outputs": [
    {
     "name": "stdout",
     "output_type": "stream",
     "text": [
      "The graph is connected.\n"
     ]
    }
   ],
   "source": [
    "is_disconnected = not nx.is_connected(G)\n",
    "\n",
    "if is_disconnected:\n",
    "    num_components = nx.number_connected_components(G)\n",
    "    print(f\"The graph is disconnected with {num_components} connected component(s).\")\n",
    "else:\n",
    "    print(\"The graph is connected.\")"
   ]
  },
  {
   "cell_type": "markdown",
   "id": "e6ceea5d",
   "metadata": {},
   "source": [
    "# __1. Structural Analysis__"
   ]
  },
  {
   "cell_type": "markdown",
   "id": "8df8b864",
   "metadata": {},
   "source": [
    "a) Number of nodes, links, network density. \n",
    "\n",
    "b) Average clustering coefficient of the nodes (Watts-Strogatz clustering coefficient). \n",
    "\n",
    "c) Global clustering coefficient (Newman transitivity). \n",
    "\n",
    "d) Average path length and diameter of the network. "
   ]
  },
  {
   "cell_type": "code",
   "execution_count": 6,
   "id": "b9537dff",
   "metadata": {},
   "outputs": [],
   "source": [
    "# Number of nodes and edges\n",
    "nodes = sorted(list(G.nodes()))\n",
    "num_nodes = len(nodes)\n",
    "print(num_nodes)\n",
    "num_edges = len(G.edges())\n",
    "print(num_edges)\n",
    "\n",
    "# Density\n",
    "rho = nx.density(G)\n",
    "print(rho)\n",
    "\n",
    "# Average clustering coefficient\n",
    "C_av = nx.average_clustering(G)\n",
    "\n",
    "# Global clustering coefficient\n",
    "C_global = nx.transitivity(G)\n",
    "\n",
    "# Average path length\n",
    "av_path_len = nx.average_shortest_path_length(G)\n",
    "\n",
    "# Diameter\n",
    "D = nx.diameter(G)\n",
    "\n",
    "# Degree for each node\n",
    "k =[]\n",
    "for n in nodes:\n",
    "    k.append(G.degree(n))"
   ]
  },
  {
   "cell_type": "markdown",
   "id": "708ed6e9",
   "metadata": {},
   "source": [
    "e) Obtain a plot of the degree distribution of the network. You should plot both the PDF and\n",
    "CDF. You may attempt to fit these distributions (at least the CDF) to more than one\n",
    "distribution."
   ]
  },
  {
   "cell_type": "code",
   "execution_count": 188,
   "id": "6cac5329",
   "metadata": {},
   "outputs": [
    {
     "data": {
      "image/png": "[encoded data removed]",
      "text/plain": [
       "<Figure size 432x288 with 1 Axes>"
      ]
     },
     "metadata": {
      "needs_background": "light"
     },
     "output_type": "display_data"
    }
   ],
   "source": [
    "# This histogram gives the frequency for each possible node degree\n",
    "degree_distribution = nx.degree_histogram(G)\n",
    "k_pdf = degree_distribution/np.sum(degree_distribution)\n",
    "\n",
    "# NOTA: cuando ahora calculas np.sum(degree_distribution) para normalizar, eso es el número total de nodos\n",
    "degrees = range(len(pdf))\n",
    "plt.bar(degrees, k_pdf, color = 'black', label = r'Network')\n",
    "params = [1.7, 5.4, 4.5, 61]\n",
    "plt.plot(degrees, scy.stats.betaprime.pdf(degrees,*params),color = 'orange', label = r'Beta Prime')\n",
    "plt.xlabel('$k$', fontsize = labFS)\n",
    "plt.ylabel('$p(k)$', fontsize = labFS)\n",
    "plt.legend(fontsize = legFS)\n",
    "plt.savefig('PDF.pdf', bbox_inches = 'tight')\n",
    "plt.show()"
   ]
  },
  {
   "cell_type": "code",
   "execution_count": 152,
   "id": "e646228a",
   "metadata": {},
   "outputs": [
    {
     "data": {
      "text/plain": [
       "205"
      ]
     },
     "execution_count": 152,
     "metadata": {},
     "output_type": "execute_result"
    }
   ],
   "source": [
    "nodes = list(G.nodes())\n",
    "degrees = [G.degree(i) for i in nodes]\n",
    "index = degrees.index(np.max(degrees))\n",
    "nodes[index]"
   ]
  },
  {
   "cell_type": "code",
   "execution_count": 158,
   "id": "65d8d82d",
   "metadata": {},
   "outputs": [],
   "source": [
    "degrees[index] = 0\n",
    "np.max(degrees)\n",
    "index2 = degrees.index(103)"
   ]
  },
  {
   "cell_type": "code",
   "execution_count": 159,
   "id": "ce507a3b",
   "metadata": {},
   "outputs": [
    {
     "data": {
      "text/plain": [
       "'University of Illinois, Urbana Champaign'"
      ]
     },
     "execution_count": 159,
     "metadata": {},
     "output_type": "execute_result"
    }
   ],
   "source": [
    "G.nodes[nodes[index2]].get('institution')"
   ]
  },
  {
   "cell_type": "code",
   "execution_count": 145,
   "id": "f67a7628",
   "metadata": {},
   "outputs": [
    {
     "data": {
      "text/plain": [
       "[(0, 77),\n",
       " (1, 75),\n",
       " (2, 90),\n",
       " (3, 51),\n",
       " (4, 74),\n",
       " (5, 79),\n",
       " (6, 67),\n",
       " (7, 43),\n",
       " (8, 62),\n",
       " (9, 103),\n",
       " (10, 70),\n",
       " (11, 69),\n",
       " (12, 43),\n",
       " (13, 60),\n",
       " (14, 38),\n",
       " (15, 29),\n",
       " (16, 80),\n",
       " (17, 47),\n",
       " (18, 66),\n",
       " (19, 41),\n",
       " (20, 48),\n",
       " (21, 28),\n",
       " (22, 67),\n",
       " (23, 40),\n",
       " (24, 76),\n",
       " (25, 56),\n",
       " (26, 41),\n",
       " (27, 33),\n",
       " (28, 54),\n",
       " (29, 46),\n",
       " (30, 20),\n",
       " (31, 67),\n",
       " (32, 71),\n",
       " (33, 49),\n",
       " (34, 44),\n",
       " (35, 39),\n",
       " (36, 38),\n",
       " (37, 41),\n",
       " (38, 38),\n",
       " (39, 36),\n",
       " (40, 41),\n",
       " (41, 23),\n",
       " (42, 26),\n",
       " (43, 22),\n",
       " (44, 20),\n",
       " (45, 31),\n",
       " (46, 29),\n",
       " (47, 21),\n",
       " (48, 22),\n",
       " (49, 35),\n",
       " (50, 39),\n",
       " (51, 13),\n",
       " (52, 13),\n",
       " (53, 36),\n",
       " (54, 24),\n",
       " (55, 25),\n",
       " (56, 36),\n",
       " (57, 25),\n",
       " (58, 17),\n",
       " (59, 26),\n",
       " (60, 14),\n",
       " (61, 24),\n",
       " (62, 37),\n",
       " (63, 46),\n",
       " (64, 20),\n",
       " (65, 15),\n",
       " (66, 18),\n",
       " (67, 8),\n",
       " (68, 21),\n",
       " (69, 15),\n",
       " (70, 9),\n",
       " (71, 20),\n",
       " (72, 11),\n",
       " (73, 33),\n",
       " (74, 57),\n",
       " (75, 41),\n",
       " (76, 30),\n",
       " (77, 55),\n",
       " (78, 67),\n",
       " (79, 41),\n",
       " (80, 22),\n",
       " (81, 36),\n",
       " (82, 48),\n",
       " (83, 16),\n",
       " (84, 46),\n",
       " (85, 38),\n",
       " (86, 26),\n",
       " (87, 20),\n",
       " (88, 30),\n",
       " (89, 37),\n",
       " (90, 17),\n",
       " (91, 26),\n",
       " (92, 39),\n",
       " (93, 17),\n",
       " (94, 24),\n",
       " (95, 31),\n",
       " (96, 5),\n",
       " (97, 20),\n",
       " (98, 18),\n",
       " (99, 8),\n",
       " (100, 24),\n",
       " (101, 12),\n",
       " (102, 17),\n",
       " (103, 36),\n",
       " (104, 16),\n",
       " (105, 87),\n",
       " (106, 33),\n",
       " (107, 21),\n",
       " (108, 28),\n",
       " (109, 26),\n",
       " (110, 24),\n",
       " (111, 15),\n",
       " (112, 19),\n",
       " (113, 32),\n",
       " (114, 13),\n",
       " (115, 21),\n",
       " (116, 18),\n",
       " (117, 19),\n",
       " (118, 12),\n",
       " (119, 17),\n",
       " (120, 25),\n",
       " (121, 10),\n",
       " (122, 7),\n",
       " (123, 19),\n",
       " (124, 15),\n",
       " (125, 15),\n",
       " (126, 10),\n",
       " (131, 37),\n",
       " (132, 6),\n",
       " (128, 30),\n",
       " (130, 13),\n",
       " (133, 19),\n",
       " (134, 23),\n",
       " (135, 18),\n",
       " (136, 16),\n",
       " (137, 20),\n",
       " (138, 22),\n",
       " (139, 18),\n",
       " (140, 27),\n",
       " (141, 14),\n",
       " (142, 19),\n",
       " (143, 15),\n",
       " (127, 23),\n",
       " (144, 25),\n",
       " (145, 16),\n",
       " (146, 8),\n",
       " (147, 10),\n",
       " (148, 24),\n",
       " (149, 16),\n",
       " (150, 14),\n",
       " (151, 21),\n",
       " (152, 26),\n",
       " (153, 14),\n",
       " (154, 17),\n",
       " (155, 4),\n",
       " (156, 14),\n",
       " (157, 17),\n",
       " (158, 13),\n",
       " (159, 10),\n",
       " (160, 11),\n",
       " (161, 22),\n",
       " (162, 23),\n",
       " (163, 15),\n",
       " (164, 13),\n",
       " (165, 15),\n",
       " (166, 14),\n",
       " (167, 7),\n",
       " (168, 13),\n",
       " (169, 16),\n",
       " (170, 17),\n",
       " (171, 12),\n",
       " (172, 16),\n",
       " (173, 12),\n",
       " (174, 19),\n",
       " (175, 12),\n",
       " (176, 10),\n",
       " (177, 11),\n",
       " (178, 5),\n",
       " (179, 14),\n",
       " (180, 10),\n",
       " (181, 6),\n",
       " (182, 12),\n",
       " (183, 18),\n",
       " (184, 6),\n",
       " (185, 8),\n",
       " (186, 12),\n",
       " (187, 18),\n",
       " (188, 10),\n",
       " (189, 14),\n",
       " (190, 22),\n",
       " (191, 17),\n",
       " (129, 20),\n",
       " (192, 11),\n",
       " (193, 6),\n",
       " (194, 14),\n",
       " (195, 6),\n",
       " (197, 17),\n",
       " (202, 6),\n",
       " (203, 11),\n",
       " (196, 10),\n",
       " (204, 12),\n",
       " (199, 6),\n",
       " (200, 10),\n",
       " (201, 6),\n",
       " (198, 7),\n",
       " (205, 172)]"
      ]
     },
     "execution_count": 145,
     "metadata": {},
     "output_type": "execute_result"
    }
   ],
   "source": [
    "degrees"
   ]
  },
  {
   "cell_type": "code",
   "execution_count": 177,
   "id": "e7319eb1",
   "metadata": {},
   "outputs": [
    {
     "name": "stdout",
     "output_type": "stream",
     "text": [
      "alpha\n",
      "a:  9.714398050903045e-08  loc:  1.202086148520104  scale:  1.6100487655892002\n",
      "[0.31389956 0.92905842 0.89156061]\n",
      "R2:  0.48221055274711766\n",
      "betaprime\n",
      "a:  1.6967535416007122 b:  5.449176958321569  loc:  4.456449807804484  scale:  60.87506711699387\n",
      "[ 0.20239608  0.67875421  0.56376864 14.52580579]\n",
      "R2:  0.9983301995888778\n",
      "chi2\n",
      "df:  1.6827510003320747  loc:  8.13819671839441  scale:  11.487840894639806\n",
      "[0.05538427 0.22666376 0.31376986]\n",
      "R2:  0.9975640016948977\n",
      "exponnorm\n",
      "K:  7.685322020608775  loc:  6.752881921853616  scale:  2.63418719122473\n",
      "[0.99277278 0.1249639  0.32996392]\n",
      "R2:  0.9983465817103353\n"
     ]
    },
    {
     "data": {
      "image/png": "[encoded data removed]",
      "text/plain": [
       "<Figure size 432x288 with 1 Axes>"
      ]
     },
     "metadata": {
      "needs_background": "light"
     },
     "output_type": "display_data"
    }
   ],
   "source": [
    "# Compute the cumulative distribution function (CDF)\n",
    "k_cdf = np.cumsum(k_pdf)\n",
    "\n",
    "# Normalize CDF to ensure it goes from 0 to 1\n",
    "# k_cdf = k_cdf / k_cdf[-1]\n",
    "\n",
    "plt.scatter(degrees,k_cdf, color = 'black', s = 10)\n",
    "\n",
    "# Here fits to several probability distributions will be shown\n",
    "def alpha_cdf(x, a, loc, scale):\n",
    "    return scy.stats.alpha.cdf(x, a, loc, scale)\n",
    "\n",
    "params, cov = scy.optimize.curve_fit(alpha_cdf, degrees, k_cdf)\n",
    "errParam = np.sqrt(np.diag(cov))\n",
    "print('alpha')\n",
    "print('a: ', params[0], ' loc: ', params[1], ' scale: ', params[2])\n",
    "\n",
    "fitted_cdf = alpha_cdf(degrees, *params)\n",
    "R2 = 1 - np.var(k_cdf-fitted_cdf)/np.var(k_cdf)\n",
    "print(errParam)\n",
    "print('R2: ', R2)\n",
    "\n",
    "plt.plot(degrees, fitted_cdf, label = r'$1$')\n",
    "\n",
    "\n",
    "def betaprime_cdf(x, a, b, loc, scale):\n",
    "    return scy.stats.betaprime.cdf(x, a, b, loc, scale)\n",
    "\n",
    "params, cov = scy.optimize.curve_fit(betaprime_cdf, degrees, k_cdf)\n",
    "errParam = np.sqrt(np.diag(cov))\n",
    "print('betaprime')\n",
    "print('a: ', params[0], 'b: ', params[1], ' loc: ', params[2], ' scale: ', params[3])\n",
    "\n",
    "fitted_cdf = betaprime_cdf(degrees, *params)\n",
    "R2 = 1 - np.var(k_cdf-fitted_cdf)/np.var(k_cdf)\n",
    "print(errParam)\n",
    "print('R2: ', R2)\n",
    "\n",
    "plt.plot(degrees, fitted_cdf, label=r'$2$')\n",
    "\n",
    "def chi2_cdf(x, df, loc, scale):\n",
    "    return chi2.cdf(x, df, loc, scale)\n",
    "\n",
    "params, cov = curve_fit(chi2_cdf, degrees, k_cdf)\n",
    "errParam = np.sqrt(np.diag(cov))\n",
    "print('chi2')\n",
    "print('df: ', params[0],' loc: ', params[1], ' scale: ', params[2])\n",
    "\n",
    "fitted_cdf = chi2_cdf(degrees, *params)\n",
    "R2 = 1 - np.var(k_cdf-fitted_cdf)/np.var(k_cdf)\n",
    "print(errParam)\n",
    "print('R2: ', R2)\n",
    "\n",
    "plt.plot(degrees, fitted_cdf, label=r'$3$')\n",
    "\n",
    "def exponnorm_cdf(x, K, loc, scale):\n",
    "    return exponnorm.cdf(x, K, loc, scale)\n",
    "\n",
    "params, cov = curve_fit(exponnorm_cdf, degrees, k_cdf)\n",
    "errParam = np.sqrt(np.diag(cov))\n",
    "print('exponnorm')\n",
    "print('K: ', params[0],' loc: ', params[1], ' scale: ', params[2])\n",
    "\n",
    "fitted_cdf = exponnorm_cdf(degrees, *params)\n",
    "R2 = 1 - np.var(k_cdf-fitted_cdf)/np.var(k_cdf)\n",
    "print(errParam)\n",
    "print('R2: ', R2)\n",
    "\n",
    "plt.plot(degrees, fitted_cdf, label=r'$4$')\n",
    "\n",
    "plt.xlabel('$k$', fontsize = labFS)\n",
    "plt.ylabel('$CDF(k)$', fontsize = labFS)\n",
    "plt.legend(fontsize = legFS)\n",
    "#plt.xlim([70, 100])\n",
    "#plt.ylim([0.9, 1])\n",
    "#plt.savefig('CDF_zoom.pdf', bbox_inches = 'tight')\n",
    "plt.show()"
   ]
  },
  {
   "cell_type": "markdown",
   "id": "0a22b54a",
   "metadata": {},
   "source": [
    "f) List the top 25 most central nodes according to each of the following centrality measures:\n",
    "degree, closeness, betweenness, eigenvector, Katz index, PageRank and subgraph\n",
    "centrality. Compare the rankings and draw conclusions."
   ]
  },
  {
   "cell_type": "code",
   "execution_count": 42,
   "id": "04136916",
   "metadata": {},
   "outputs": [],
   "source": [
    "def prepare_writing(centrality): \n",
    "\n",
    "    nodes_aux = np.asarray(nodes)\n",
    "    cent = np.zeros(num_nodes)\n",
    "    for i in range(num_nodes):\n",
    "        cent[i] = centrality[nodes[i]]\n",
    "    cent_aux = sorted(list(cent), reverse = True)[0:25]\n",
    "\n",
    "    indexes = []\n",
    "    for i in range(len(cent_aux)):\n",
    "        indexes.append(np.where(cent == cent_aux[i])[0][0])\n",
    "\n",
    "    nodes_cent = nodes_aux[indexes]\n",
    "    cent = cent[indexes]\n",
    "    \n",
    "    return list(nodes_cent), list(cent)"
   ]
  },
  {
   "cell_type": "code",
   "execution_count": 72,
   "id": "26884218",
   "metadata": {},
   "outputs": [],
   "source": [
    "# We have to prepare, first, the data to be writen\n",
    "centrality = nx.degree_centrality(G)\n",
    "n1, c1 = prepare_writing(centrality)\n",
    "\n",
    "centrality = nx.closeness_centrality(G)\n",
    "n2, c2 = prepare_writing(centrality)\n",
    "\n",
    "centrality = nx.betweenness_centrality(G)\n",
    "n3, c3 = prepare_writing(centrality)\n",
    "\n",
    "centrality = nx.eigenvector_centrality(G)\n",
    "n4, c4 = prepare_writing(centrality)\n",
    "\n",
    "centrality = nx.pagerank(G)\n",
    "n5, c5 = prepare_writing(centrality)\n",
    "\n",
    "centrality = nx.subgraph_centrality(G)\n",
    "n6, c6 = prepare_writing(centrality)\n",
    "\n",
    "decimales = [3, 3, 4, 3, 4, 2]\n",
    "#file.write(\"%.3f & %.3f & %.4f & %.3f & %.4f & %.2f \\\\\\\\\\n\"%(c1[i],c2[i],c3[i],c4[i],c5[i],c6[i]))"
   ]
  },
  {
   "cell_type": "code",
   "execution_count": 73,
   "id": "eb145c85",
   "metadata": {},
   "outputs": [],
   "source": [
    "file_path = 'most_central_nodes.txt'\n",
    "with open(file_path, \"w\") as file:\n",
    "    # headers\n",
    "    file.write(\"Degree & Closeness & Betweenness & Eigenvector & PageRank & Subgraph\\\\\\\\\\n\")\n",
    "    \n",
    "    # data\n",
    "    for i in range(len(c1)):\n",
    "        file.write(\"%.d & %.d & %.d & %.d & %.d & %.d \\\\\\\\\\n\"%(n1[i],n2[i],n3[i],n4[i],n5[i],n6[i]))\n",
    "        "
   ]
  },
  {
   "cell_type": "code",
   "execution_count": 75,
   "id": "95188f97",
   "metadata": {},
   "outputs": [],
   "source": [
    "file_path = 'most_central_nodes_with_values.txt'\n",
    "with open(file_path, \"w\") as file:\n",
    "    # headers\n",
    "    file.write(\"Node & Degree & Node & Closeness & Node & Betweenness & Node & Eigenvector & Node & PageRank & Node & Subgraph\\\\\\\\\\n\")\n",
    "    \n",
    "    # data\n",
    "    for i in range(len(c1)):\n",
    "        file.write(\"%.d & %.3f & %.d & %.3f & %.d & %.4f & %.d & %.3f & %.d & %.4f & %.d & %.2e \\\\\\\\\\n\"%(n1[i],c1[i],n2[i],c2[i],n3[i],c3[i],n4[i],c4[i],n5[i],c5[i],n6[i],c6[i]))\n",
    "        "
   ]
  },
  {
   "cell_type": "code",
   "execution_count": 56,
   "id": "c49e953e",
   "metadata": {},
   "outputs": [
    {
     "ename": "PowerIterationFailedConvergence",
     "evalue": "(PowerIterationFailedConvergence(...), 'power iteration failed to converge within 5000 iterations')",
     "output_type": "error",
     "traceback": [
      "\u001b[1;31m---------------------------------------------------------------------------\u001b[0m",
      "\u001b[1;31mPowerIterationFailedConvergence\u001b[0m           Traceback (most recent call last)",
      "Input \u001b[1;32mIn [56]\u001b[0m, in \u001b[0;36m<cell line: 1>\u001b[1;34m()\u001b[0m\n\u001b[1;32m----> 1\u001b[0m centrality \u001b[38;5;241m=\u001b[39m \u001b[43mnx\u001b[49m\u001b[38;5;241;43m.\u001b[39;49m\u001b[43mkatz_centrality\u001b[49m\u001b[43m(\u001b[49m\u001b[43mG\u001b[49m\u001b[43m,\u001b[49m\u001b[43m \u001b[49m\u001b[43malpha\u001b[49m\u001b[38;5;241;43m=\u001b[39;49m\u001b[38;5;241;43m0.1\u001b[39;49m\u001b[43m,\u001b[49m\u001b[43m \u001b[49m\u001b[43mbeta\u001b[49m\u001b[38;5;241;43m=\u001b[39;49m\u001b[38;5;241;43m1\u001b[39;49m\u001b[43m,\u001b[49m\u001b[43m \u001b[49m\u001b[43mmax_iter\u001b[49m\u001b[38;5;241;43m=\u001b[39;49m\u001b[38;5;241;43m5000\u001b[39;49m\u001b[43m,\u001b[49m\u001b[43m \u001b[49m\u001b[43mtol\u001b[49m\u001b[38;5;241;43m=\u001b[39;49m\u001b[38;5;241;43m1e-1\u001b[39;49m\u001b[43m)\u001b[49m\n\u001b[0;32m      2\u001b[0m centrality\n",
      "File \u001b[1;32m<class 'networkx.utils.decorators.argmap'> compilation 24:4\u001b[0m, in \u001b[0;36margmap_katz_centrality_21\u001b[1;34m(G, alpha, beta, max_iter, tol, nstart, normalized, weight)\u001b[0m\n\u001b[0;32m      2\u001b[0m \u001b[38;5;28;01mfrom\u001b[39;00m \u001b[38;5;21;01mos\u001b[39;00m\u001b[38;5;21;01m.\u001b[39;00m\u001b[38;5;21;01mpath\u001b[39;00m \u001b[38;5;28;01mimport\u001b[39;00m splitext\n\u001b[0;32m      3\u001b[0m \u001b[38;5;28;01mfrom\u001b[39;00m \u001b[38;5;21;01mcontextlib\u001b[39;00m \u001b[38;5;28;01mimport\u001b[39;00m contextmanager\n\u001b[1;32m----> 4\u001b[0m \u001b[38;5;28;01mfrom\u001b[39;00m \u001b[38;5;21;01mpathlib\u001b[39;00m \u001b[38;5;28;01mimport\u001b[39;00m Path\n\u001b[0;32m      6\u001b[0m \u001b[38;5;28;01mimport\u001b[39;00m \u001b[38;5;21;01mnetworkx\u001b[39;00m \u001b[38;5;28;01mas\u001b[39;00m \u001b[38;5;21;01mnx\u001b[39;00m\n\u001b[0;32m      7\u001b[0m \u001b[38;5;28;01mfrom\u001b[39;00m \u001b[38;5;21;01mnetworkx\u001b[39;00m\u001b[38;5;21;01m.\u001b[39;00m\u001b[38;5;21;01mutils\u001b[39;00m \u001b[38;5;28;01mimport\u001b[39;00m create_random_state, create_py_random_state\n",
      "File \u001b[1;32m~\\anaconda3\\lib\\site-packages\\networkx\\algorithms\\centrality\\katz.py:193\u001b[0m, in \u001b[0;36mkatz_centrality\u001b[1;34m(G, alpha, beta, max_iter, tol, nstart, normalized, weight)\u001b[0m\n\u001b[0;32m    191\u001b[0m             x[n] \u001b[38;5;241m*\u001b[39m\u001b[38;5;241m=\u001b[39m s\n\u001b[0;32m    192\u001b[0m         \u001b[38;5;28;01mreturn\u001b[39;00m x\n\u001b[1;32m--> 193\u001b[0m \u001b[38;5;28;01mraise\u001b[39;00m nx\u001b[38;5;241m.\u001b[39mPowerIterationFailedConvergence(max_iter)\n",
      "\u001b[1;31mPowerIterationFailedConvergence\u001b[0m: (PowerIterationFailedConvergence(...), 'power iteration failed to converge within 5000 iterations')"
     ]
    }
   ],
   "source": [
    "# Here the maximum number of iterations was placed at 5 times the default value and the tolerance at 10^5 times the default value.\n",
    "# Since no convergence was possible, I simply decided to consider these measure of centrality unsuitable for the graph assigned.\n",
    "centrality = nx.katz_centrality(G, alpha=0.1, beta=1, max_iter=5000, tol=1e-1)\n",
    "centrality"
   ]
  },
  {
   "cell_type": "markdown",
   "id": "516f5e63",
   "metadata": {},
   "source": [
    "g) Report the degree assortativity of this network."
   ]
  },
  {
   "cell_type": "code",
   "execution_count": 76,
   "id": "4feae718",
   "metadata": {},
   "outputs": [
    {
     "data": {
      "text/plain": [
       "-0.12317639969503794"
      ]
     },
     "execution_count": 76,
     "metadata": {},
     "output_type": "execute_result"
    }
   ],
   "source": [
    "degree_assortativity = nx.degree_assortativity_coefficient(G)\n",
    "degree_assortativity"
   ]
  },
  {
   "cell_type": "markdown",
   "id": "46657bbe",
   "metadata": {},
   "source": [
    "h) Measure numerically how close to bipartite this network is. For this you must calculate\n",
    "the bipartivity index studied in this course."
   ]
  },
  {
   "cell_type": "code",
   "execution_count": 80,
   "id": "52109c15",
   "metadata": {},
   "outputs": [
    {
     "data": {
      "text/plain": [
       "0.5000000000000182"
      ]
     },
     "execution_count": 80,
     "metadata": {},
     "output_type": "execute_result"
    }
   ],
   "source": [
    "from networkx.algorithms import bipartite\n",
    "spectral_bipartivity = nx.algorithms.bipartite.spectral_bipartivity(G)\n",
    "spectral_bipartivity"
   ]
  },
  {
   "cell_type": "markdown",
   "id": "f1d9ff99",
   "metadata": {},
   "source": [
    "# __2. Random Networks__ "
   ]
  },
  {
   "cell_type": "markdown",
   "id": "2304726e",
   "metadata": {},
   "source": [
    "Generate 10 random realisations of the Erdös-Rényi and 10 random realisations of the\n",
    "Barabási-Albert models with the same number of nodes and edges of the given network.\n",
    "Then, report the averages and standard deviations of all the parameters previously\n",
    "calculated in items b)-e), g)-h) (these average and standard deviations refer to the values\n",
    "obtained for the 10 random realisations of the ER and of the BA network). In all cases\n",
    "compare the results obtained for these random networks with those of the real network\n",
    "you are studying."
   ]
  },
  {
   "cell_type": "markdown",
   "id": "d5851e13",
   "metadata": {},
   "source": [
    "n = number of nodes\n",
    "m0 = number of edges formed to each node you will enter\n",
    "\n",
    "If you want m edges at the end, you impose m0 = m/n, rounded\n",
    "\n",
    "nx.barabasi_albert_graph(n,m0)"
   ]
  },
  {
   "cell_type": "markdown",
   "id": "4ca64541",
   "metadata": {},
   "source": [
    "n = number of nodes\n",
    "p = probability of forming edges\n",
    "\n",
    "You cannot establish a fixed number of edges here, but you can fix a probability that will roughly recreate the desired number of edges.\n",
    "\n",
    "p = 2m/n(n-1)\n",
    "\n",
    "nx.erdos_renyi_graph(n,p)"
   ]
  },
  {
   "cell_type": "code",
   "execution_count": 28,
   "id": "5cf570c3",
   "metadata": {},
   "outputs": [],
   "source": [
    "N = 10\n",
    "n = len(G.nodes)\n",
    "m = len(G.edges)\n",
    "m0 = round(m/n)\n",
    "\n",
    "C_av = np.zeros(N)\n",
    "C_global = np.zeros(N)\n",
    "av_path_len = np.zeros(N)\n",
    "D = np.zeros(N)\n",
    "mean_degree = np.zeros(N)\n",
    "degree_assortativity = np.zeros(N)\n",
    "spectral_bipartivity = np.zeros(N)\n",
    "\n",
    "for i in range(N):\n",
    "    graph = nx.barabasi_albert_graph(n,m0)\n",
    "    \n",
    "    C_av[i] = nx.average_clustering(graph)\n",
    "    C_global[i] = nx.transitivity(graph)\n",
    "    av_path_len[i] = nx.average_shortest_path_length(graph)\n",
    "    D[i] = nx.diameter(graph)\n",
    "    mean_degree[i] = np.mean(nx.degree(graph))\n",
    "    degree_assortativity[i] = nx.degree_assortativity_coefficient(graph)\n",
    "    spectral_bipartivity[i] = nx.algorithms.bipartite.spectral_bipartivity(graph)"
   ]
  },
  {
   "cell_type": "code",
   "execution_count": 64,
   "id": "4460e298",
   "metadata": {},
   "outputs": [],
   "source": [
    "N = 10\n",
    "n = len(G.nodes)\n",
    "m = len(G.edges)\n",
    "p = 2*m/(n*(n-1))\n",
    "\n",
    "C_av = np.zeros(N)\n",
    "C_global = np.zeros(N)\n",
    "av_path_len = np.zeros(N)\n",
    "D = np.zeros(N)\n",
    "mean_degree = np.zeros(N)\n",
    "degree_assortativity = np.zeros(N)\n",
    "spectral_bipartivity = np.zeros(N)\n",
    "\n",
    "for i in range(N):\n",
    "    graph = nx.erdos_renyi_graph(n,p)\n",
    "    \n",
    "    C_av[i] = nx.average_clustering(graph)\n",
    "    C_global[i] = nx.transitivity(graph)\n",
    "    av_path_len[i] = nx.average_shortest_path_length(graph)\n",
    "    D[i] = nx.diameter(graph)\n",
    "    mean_degree[i] = np.mean(nx.degree(graph))\n",
    "    degree_assortativity[i] = nx.degree_assortativity_coefficient(graph)\n",
    "    spectral_bipartivity[i] = nx.algorithms.bipartite.spectral_bipartivity(graph)"
   ]
  },
  {
   "cell_type": "markdown",
   "id": "25a8d65f",
   "metadata": {},
   "source": [
    "# __3. Communities__\n",
    "Analyse whether the network under study has communities, use any method to find such\n",
    "communities in case they exist and report any value of the quality of such partitions, e.g.,\n",
    "modularity."
   ]
  },
  {
   "cell_type": "code",
   "execution_count": 90,
   "id": "812640b7",
   "metadata": {},
   "outputs": [
    {
     "name": "stdout",
     "output_type": "stream",
     "text": [
      "[frozenset({9, 20, 24, 28, 31, 36, 38, 42, 43, 48, 49, 50, 55, 56, 57, 59, 61, 62, 64, 70, 72, 75, 76, 77, 78, 79, 82, 83, 86, 88, 89, 91, 92, 94, 95, 98, 104, 105, 106, 111, 113, 115, 118, 120, 122, 125, 126, 127, 128, 130, 131, 133, 134, 138, 139, 140, 144, 148, 151, 153, 154, 156, 157, 159, 161, 162, 163, 164, 165, 167, 168, 169, 173, 176, 177, 178, 179, 180, 182, 187, 189, 190, 192, 194, 195, 196, 197, 201, 202}), frozenset({0, 1, 2, 3, 4, 5, 6, 7, 8, 10, 11, 12, 13, 14, 15, 16, 17, 146, 21, 22, 23, 25, 26, 27, 29, 30, 32, 34, 39, 41, 171, 172, 46, 47, 60, 68, 69, 73, 80, 81, 93, 96, 99, 103, 107, 109, 112, 117, 121, 123}), frozenset({129, 132, 135, 136, 137, 141, 18, 35, 166, 40, 44, 45, 174, 51, 53, 183, 184, 185, 58, 63, 191, 193, 198, 199, 203, 204, 205, 84, 100, 102, 114, 116, 119}), frozenset({65, 67, 74, 142, 143, 145, 19, 147, 149, 85, 150, 87, 90, 155, 97, 33, 110, 175, 52, 54}), frozenset({188, 101, 181, 71, 170, 108, 158}), frozenset({160, 66, 37, 152, 186, 124, 200})]\n"
     ]
    }
   ],
   "source": [
    "# I would use modularity optimization and spectral clustering\n",
    "communities_modularity = nx.algorithms.community.greedy_modularity_communities(G, weight='weight')\n",
    "print(communities_modularity)"
   ]
  },
  {
   "cell_type": "code",
   "execution_count": 125,
   "id": "f16b1e78",
   "metadata": {},
   "outputs": [
    {
     "data": {
      "text/plain": [
       "7"
      ]
     },
     "execution_count": 125,
     "metadata": {},
     "output_type": "execute_result"
    }
   ],
   "source": [
    "len(communities_modularity[5])"
   ]
  },
  {
   "cell_type": "code",
   "execution_count": 128,
   "id": "0af941fa",
   "metadata": {},
   "outputs": [
    {
     "data": {
      "text/plain": [
       "[160, 66, 37, 152, 186, 124, 200]"
      ]
     },
     "execution_count": 128,
     "metadata": {},
     "output_type": "execute_result"
    }
   ],
   "source": [
    "list(communities_modularity[5])"
   ]
  },
  {
   "cell_type": "code",
   "execution_count": 137,
   "id": "e6c92312",
   "metadata": {},
   "outputs": [
    {
     "data": {
      "text/plain": [
       "'University of Idaho, Moscow'"
      ]
     },
     "execution_count": 137,
     "metadata": {},
     "output_type": "execute_result"
    }
   ],
   "source": [
    "G.nodes[200].get('institution')"
   ]
  },
  {
   "cell_type": "code",
   "execution_count": 96,
   "id": "72181a5b",
   "metadata": {},
   "outputs": [
    {
     "name": "stdout",
     "output_type": "stream",
     "text": [
      "({0, 1, 2, 3, 4, 5, 6, 7, 8, 9, 10, 11, 12, 13, 14, 15, 16, 17, 18, 19, 20, 21, 22, 23, 24, 25, 26, 27, 28, 29, 30, 31, 32, 33, 34, 35, 36, 37, 38, 39, 40, 41, 42, 43, 44, 45, 46, 47, 48, 49, 50, 51, 52, 53, 54, 55, 56, 57, 58, 59, 60, 61, 62, 63, 64, 65, 66, 67, 68, 69, 70, 71, 72, 73, 74, 75, 76, 77, 78, 79, 80, 81, 82, 83, 84, 85, 86, 87, 88, 89, 90, 91, 92, 93, 94, 95, 96, 97, 98, 99, 100, 101, 102, 103, 104, 105, 106, 107, 108, 109, 110, 111, 112, 113, 114, 115, 116, 117, 118, 119, 120, 121, 122, 123, 124, 125, 126, 127, 128, 129, 130, 131, 132, 133, 134, 135, 136, 137, 138, 139, 140, 141, 142, 143, 144, 145, 146, 147, 148, 149, 150, 151, 152, 153, 154, 155, 156, 157, 158, 159, 160, 161, 162, 163, 164, 165, 166, 167, 168, 169, 170, 171, 172, 173, 174, 175, 176, 177, 178, 179, 180, 181, 182, 183, 184, 185, 186, 187, 188, 189, 190, 191, 192, 193, 194, 195, 196, 197, 198, 199, 200, 202, 203, 204, 205}, {201})\n"
     ]
    }
   ],
   "source": [
    "# Girvan Newman -> different levels\n",
    "\n",
    "communities_gn = nx.algorithms.community.girvan_newman(G)\n",
    "communities_gn = list(communities_gn)\n",
    "print(communities_gn[0])"
   ]
  },
  {
   "cell_type": "code",
   "execution_count": 113,
   "id": "c097986c",
   "metadata": {},
   "outputs": [
    {
     "data": {
      "image/png": "[encoded data removed]",
      "text/plain": [
       "<Figure size 432x288 with 1 Axes>"
      ]
     },
     "metadata": {
      "needs_background": "light"
     },
     "output_type": "display_data"
    },
    {
     "data": {
      "image/png": "[encoded data removed]",
      "text/plain": [
       "<Figure size 432x288 with 1 Axes>"
      ]
     },
     "metadata": {
      "needs_background": "light"
     },
     "output_type": "display_data"
    },
    {
     "data": {
      "image/png": "[encoded data removed]",
      "text/plain": [
       "<Figure size 432x288 with 1 Axes>"
      ]
     },
     "metadata": {
      "needs_background": "light"
     },
     "output_type": "display_data"
    },
    {
     "data": {
      "text/plain": [
       "[<matplotlib.lines.Line2D at 0x1cb5ecd18e0>]"
      ]
     },
     "execution_count": 113,
     "metadata": {},
     "output_type": "execute_result"
    },
    {
     "data": {
      "image/png": "[encoded data removed]",
      "text/plain": [
       "<Figure size 432x288 with 1 Axes>"
      ]
     },
     "metadata": {
      "needs_background": "light"
     },
     "output_type": "display_data"
    }
   ],
   "source": [
    "N = len(communities_gn)\n",
    "mod = np.zeros(N)\n",
    "cov = np.zeros(N)\n",
    "perf = np.zeros(N)\n",
    "for i in range(N):\n",
    "    mod[i] = nx.algorithms.community.modularity(G,communities_gn[i])\n",
    "    cov[i],perf[i] = nx.algorithms.community.partition_quality(G,communities_gn[i])\n",
    "    #print('Girvan Newman optimization for %.d clusters:'%(i+1),mod[i])\n",
    "x = [i+1 for i in range(N)]\n",
    "plt.plot(x,mod)\n",
    "plt.show()\n",
    "plt.plot(x,cov)\n",
    "plt.show()\n",
    "plt.plot(x,perf)\n",
    "plt.show()\n",
    "plt.plot(x,cov*perf)"
   ]
  },
  {
   "cell_type": "code",
   "execution_count": 101,
   "id": "57055970",
   "metadata": {},
   "outputs": [
    {
     "name": "stdout",
     "output_type": "stream",
     "text": [
      "[{0, 1, 2, 3, 4, 5, 6, 7, 8, 9, 10, 11, 12, 13, 14, 15, 16, 17, 18, 19, 20, 21, 22, 23, 24, 25, 26, 27, 28, 29, 30, 31, 32, 33, 34, 35, 36, 37, 38, 39, 40, 41, 42, 43, 44, 45, 46, 47, 48, 49, 50, 51, 52, 53, 54, 55, 56, 57, 58, 59, 60, 61, 62, 63, 64, 65, 66, 67, 68, 69, 70, 71, 72, 73, 74, 75, 76, 77, 78, 79, 80, 81, 82, 83, 84, 85, 86, 87, 88, 89, 90, 91, 92, 93, 94, 95, 96, 97, 98, 99, 100, 101, 102, 103, 104, 105, 106, 107, 108, 109, 110, 111, 112, 113, 114, 115, 116, 117, 118, 119, 120, 121, 122, 123, 124, 125, 126, 127, 128, 129, 130, 131, 132, 133, 134, 135, 136, 137, 138, 139, 140, 141, 142, 143, 144, 145, 146, 147, 148, 149, 150, 151, 152, 153, 154, 155, 156, 157, 158, 159, 160, 161, 162, 163, 164, 165, 166, 167, 168, 169, 170, 171, 172, 173, 174, 175, 176, 177, 178, 179, 180, 181, 182, 183, 184, 185, 186, 187, 188, 189, 190, 191, 192, 193, 194, 195, 196, 197, 198, 199, 200, 201, 202, 203, 204, 205}]\n"
     ]
    }
   ],
   "source": [
    "# label propagation\n",
    "# According to this method there's just one community\n",
    "\n",
    "communities_lp = nx.algorithms.community.label_propagation_communities(G)\n",
    "communities_lp = list(communities_lp)\n",
    "print(communities_lp)"
   ]
  },
  {
   "cell_type": "code",
   "execution_count": 102,
   "id": "c7199e76",
   "metadata": {},
   "outputs": [
    {
     "data": {
      "text/plain": [
       "1"
      ]
     },
     "execution_count": 102,
     "metadata": {},
     "output_type": "execute_result"
    }
   ],
   "source": [
    "len(communities_lp)"
   ]
  },
  {
   "cell_type": "code",
   "execution_count": 114,
   "id": "06e13063",
   "metadata": {},
   "outputs": [
    {
     "name": "stdout",
     "output_type": "stream",
     "text": [
      "modularity optimization: 0.265343862157711\n",
      "modularity label_propagation: 0.0\n",
      "Girvan Newman optimization: 0.0004002388410613495\n"
     ]
    }
   ],
   "source": [
    "mod_mod = nx.algorithms.community.modularity(G,communities_modularity)\n",
    "print('modularity optimization:',mod_mod)\n",
    "mod_lp = nx.algorithms.community.modularity(G,communities_lp)\n",
    "print('modularity label_propagation:',mod_lp)\n",
    "mod_gn = nx.algorithms.community.modularity(G,communities_gn[0])\n",
    "print('Girvan Newman optimization:',mod_gn)"
   ]
  },
  {
   "cell_type": "code",
   "execution_count": 115,
   "id": "04eb339b",
   "metadata": {},
   "outputs": [
    {
     "name": "stdout",
     "output_type": "stream",
     "text": [
      "Modularity (coverage,performance): (0.4736474694589878, 0.713379114373668)\n",
      "Label propagation (coverage,performance): (1.0, 0.1356855316125977)\n",
      "Girvan Newman (coverage,performance): (0.9986038394415357, 0.14501539190149182)\n"
     ]
    }
   ],
   "source": [
    "qual_mod = nx.algorithms.community.partition_quality(G,communities_modularity)\n",
    "print('Modularity (coverage,performance):',qual_mod)\n",
    "qual_lp = nx.algorithms.community.partition_quality(G,communities_lp)\n",
    "print('Label propagation (coverage,performance):',qual_lp)\n",
    "qual_gn = nx.algorithms.community.partition_quality(G,communities_gn[0])\n",
    "print('Girvan Newman (coverage,performance):',qual_gn)"
   ]
  },
  {
   "cell_type": "markdown",
   "id": "e1d02098",
   "metadata": {},
   "source": [
    "# __4. Plotting__"
   ]
  },
  {
   "cell_type": "code",
   "execution_count": null,
   "id": "4d006931",
   "metadata": {},
   "outputs": [],
   "source": []
  }
 ],
 "metadata": {
  "kernelspec": {
   "display_name": "Python 3 (ipykernel)",
   "language": "python",
   "name": "python3"
  },
  "language_info": {
   "codemirror_mode": {
    "name": "ipython",
    "version": 3
   },
   "file_extension": ".py",
   "mimetype": "text/x-python",
   "name": "python",
   "nbconvert_exporter": "python",
   "pygments_lexer": "ipython3",
   "version": "3.9.12"
  }
 },
 "nbformat": 4,
 "nbformat_minor": 5
}
